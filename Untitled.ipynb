{
 "cells": [
  {
   "cell_type": "code",
   "execution_count": 85,
   "metadata": {},
   "outputs": [],
   "source": [
    "from gekko import GEKKO\n",
    "import numpy as np\n",
    "import matplotlib.pyplot as plt\n",
    "import math\n",
    "%matplotlib inline\n"
   ]
  },
  {
   "cell_type": "code",
   "execution_count": 86,
   "metadata": {},
   "outputs": [
    {
     "name": "stdout",
     "output_type": "stream",
     "text": [
      "apm 201.189.157.50_gk_model27 <br><pre> ----------------------------------------------------------------\n",
      " APMonitor, Version 1.0.0\n",
      " APMonitor Optimization Suite\n",
      " ----------------------------------------------------------------\n",
      " \n",
      " \n",
      " --------- APM Model Size ------------\n",
      " Each time step contains\n",
      "   Objects      :            1\n",
      "   Constants    :            0\n",
      "   Variables    :           16\n",
      "   Intermediates:            0\n",
      "   Connections  :            2\n",
      "   Equations    :            7\n",
      "   Residuals    :            7\n",
      " \n",
      " Number of state variables:           1992\n",
      " Number of total equations: -         1743\n",
      " Number of slack variables: -            0\n",
      " ---------------------------------------\n",
      " Degrees of freedom       :            249\n",
      " \n",
      " **********************************************\n",
      " Dynamic Control with Interior Point Solver\n",
      " **********************************************\n",
      "  \n",
      "  \n",
      " Info: Exact Hessian\n",
      "\n",
      "******************************************************************************\n",
      "This program contains Ipopt, a library for large-scale nonlinear optimization.\n",
      " Ipopt is released as open source code under the Eclipse Public License (EPL).\n",
      "         For more information visit http://projects.coin-or.org/Ipopt\n",
      "******************************************************************************\n",
      "\n",
      "This is Ipopt version 3.12.10, running with linear solver ma57.\n",
      "\n",
      "Number of nonzeros in equality constraint Jacobian...:     4060\n",
      "Number of nonzeros in inequality constraint Jacobian.:      498\n",
      "Number of nonzeros in Lagrangian Hessian.............:      498\n",
      "\n",
      "Total number of variables............................:     1992\n",
      "                     variables with only lower bounds:      498\n",
      "                variables with lower and upper bounds:      415\n",
      "                     variables with only upper bounds:        0\n",
      "Total number of equality constraints.................:     1577\n",
      "Total number of inequality constraints...............:      166\n",
      "        inequality constraints with only lower bounds:      166\n",
      "   inequality constraints with lower and upper bounds:        0\n",
      "        inequality constraints with only upper bounds:        0\n",
      "\n",
      "iter    objective    inf_pr   inf_du lg(mu)  ||d||  lg(rg) alpha_du alpha_pr  ls\n",
      "   0  8.3000017e+11 4.56e+07 3.24e+01   0.0 0.00e+00    -  0.00e+00 0.00e+00   0\n",
      "   1  8.7295834e+11 5.66e+07 3.20e+01   3.1 2.96e+03    -  6.24e-06 1.10e-04f  1\n",
      "   2  8.7737311e+11 5.66e+07 3.28e+02   9.0 5.94e+09    -  7.00e-11 7.30e-11f  1\n",
      "   3  9.8405625e+11 6.22e+07 3.22e+02   9.0 6.07e+09    -  3.79e-10 1.82e-09f  1\n",
      "   4  9.5551582e+11 1.77e+08 3.18e+02   9.0 5.81e+09    -  5.07e-09 2.09e-09f  1\n",
      "   5  8.8609893e+11 4.74e+08 3.20e+02   9.0 5.63e+09    -  6.59e-09 1.11e-08f  1\n",
      "   6  7.5411562e+11 4.97e+08 2.92e+02   9.0 4.88e+09    -  5.86e-08 2.95e-08f  1\n",
      "   7  5.2998116e+11 5.98e+08 2.52e+02   3.1 2.36e+03    -  1.05e-01 9.33e-02f  1\n",
      "   8  5.0025538e+11 4.80e+08 2.14e+02   3.1 1.50e+03    -  1.37e-01 1.87e-01f  1\n",
      "   9  4.5914888e+11 6.36e+07 1.50e+02   3.0 1.37e+03    -  5.28e-01 1.00e+00f  1\n",
      "iter    objective    inf_pr   inf_du lg(mu)  ||d||  lg(rg) alpha_du alpha_pr  ls\n",
      "  10  4.6309553e+11 3.34e+06 2.29e+02   2.7 1.34e+03    -  7.24e-01 1.00e+00f  1\n",
      "  11  4.5762225e+11 3.28e+05 3.81e+01   2.1 1.26e+03    -  8.33e-01 1.00e+00f  1\n",
      "  12  4.3974604e+11 3.03e+06 9.93e+00   1.4 1.17e+03    -  8.84e-01 1.00e+00f  1\n",
      "  13  3.6308183e+11 8.57e+07 7.33e+00   0.4 1.08e+03    -  7.67e-01 1.00e+00f  1\n",
      "  14  2.9498263e+11 5.13e+08 1.88e+01  -0.2 1.13e+03    -  5.34e-01 5.68e-01f  1\n",
      "  15  2.5345480e+11 1.55e+08 7.40e+00  -0.5 1.01e+03    -  8.59e-01 6.92e-01f  1\n",
      "  16  2.1412682e+11 4.11e+07 4.35e+00  -1.4 9.22e+02    -  8.14e-01 9.90e-01f  1\n",
      "  17  2.0762720e+11 3.69e+06 1.27e+00  -2.1 3.41e+03    -  7.80e-01 9.78e-01f  1\n",
      "  18  2.0523902e+11 3.02e+06 2.38e-01  -2.8 2.82e+03    -  7.73e-01 1.00e+00f  1\n",
      "  19  2.0492710e+11 8.99e+05 7.31e-02  -3.4 8.06e+02    -  7.56e-01 9.46e-01f  1\n",
      "iter    objective    inf_pr   inf_du lg(mu)  ||d||  lg(rg) alpha_du alpha_pr  ls\n",
      "  20  2.0488567e+11 1.58e+05 1.70e-02  -4.0 7.77e+02    -  8.02e-01 8.70e-01f  1\n",
      "  21  2.0487913e+11 3.02e+04 2.81e-03  -4.7 7.45e+02    -  7.98e-01 7.85e-01h  1\n",
      "  22  2.0487743e+11 2.47e+03 3.12e-03  -5.4 7.16e+02    -  8.56e-01 8.77e-01h  1\n",
      "  23  2.0487707e+11 9.25e+01 5.44e-02  -6.3 6.77e+02    -  9.12e-01 9.98e-01h  1\n",
      "  24  2.0487705e+11 9.28e+00 9.07e-01  -7.3 6.21e+02    -  9.90e-01 8.99e-01h  1\n",
      "  25  2.0487705e+11 3.38e+00 1.30e+01  -9.3 3.60e+02    -  9.90e-01 6.36e-01h  1\n",
      "  26  2.0487705e+11 3.33e+00 3.62e+01  -6.6 1.40e+07    -  9.96e-01 1.56e-02f  7\n",
      "  27  2.0487706e+11 2.07e-03 1.77e+02  -6.6 1.28e+05    -  1.52e-01 1.00e+00f  1\n",
      "  28  2.0487706e+11 1.91e-06 2.49e-12  -6.6 5.91e+03    -  1.00e+00 1.00e+00h  1\n",
      "  29  2.0487705e+11 1.31e-04 3.00e+00 -12.3 1.24e-02    -  1.00e+00 8.03e-01f  1\n",
      "Reallocating memory for MA57: lfact (99716)\n",
      "Reallocating memory for MA57: lfact (136139)\n",
      "In iteration 29, 1 Slack too small, adjusting variable bound\n",
      "iter    objective    inf_pr   inf_du lg(mu)  ||d||  lg(rg) alpha_du alpha_pr  ls\n",
      "  30  2.0487705e+11 7.23e-06 2.00e-01  -8.1 1.97e-03  -4.0 1.00e+00 9.85e-01f  1\n",
      "  31  2.0487705e+11 1.91e-06 6.82e-13  -8.1 2.14e+02    -  1.00e+00 1.00e+00h  1\n",
      "In iteration 31, 1 Slack too small, adjusting variable bound\n",
      "  32  2.0487705e+11 1.91e-06 2.36e-01 -12.3 1.83e-03    -  1.00e+00 8.24e-01h  1\n",
      "In iteration 32, 1 Slack too small, adjusting variable bound\n",
      "  33  2.0487705e+11 1.91e-06 5.50e-02  -9.7 5.65e-05  -4.5 1.00e+00 8.91e-01h  1\n",
      "  34  2.0487705e+11 1.91e-06 3.71e-02 -11.1 1.10e+00    -  1.00e+00 7.16e-01h  1\n",
      "  35  2.0487705e+11 1.91e-06 4.50e-11 -10.7 4.05e-06  -5.0 1.00e+00 1.00e+00h  1\n",
      "In iteration 35, 1 Slack too small, adjusting variable bound\n",
      "  36  2.0487705e+11 1.91e-06 2.17e-05 -12.3 8.66e-07  -5.4 1.00e+00 9.95e-01h  1\n",
      "  37  2.0487705e+11 1.91e-06 6.82e-13 -12.3 4.19e-09  -5.9 1.00e+00 1.00e+00h  1\n",
      "\n",
      "Number of Iterations....: 37\n",
      "\n",
      "                                   (scaled)                 (unscaled)\n",
      "Objective...............:   2.0487705124193649e+03    2.0487705124193649e+11\n",
      "Dual infeasibility......:   6.8212102632969618e-13    6.8212102632969618e-05\n",
      "Constraint violation....:   1.1368683772161603e-13    1.9073486328125000e-06\n",
      "Complementarity.........:   5.0558530247758555e-13    5.0558530247758556e-05\n",
      "Overall NLP error.......:   6.8212102632969618e-13    6.8212102632969618e-05\n",
      "\n",
      "\n",
      "Number of objective function evaluations             = 46\n",
      "Number of objective gradient evaluations             = 38\n",
      "Number of equality constraint evaluations            = 46\n",
      "Number of inequality constraint evaluations          = 46\n",
      "Number of equality constraint Jacobian evaluations   = 38\n",
      "Number of inequality constraint Jacobian evaluations = 38\n",
      "Number of Lagrangian Hessian evaluations             = 37\n",
      "Total CPU secs in IPOPT (w/o function evaluations)   =      0.264\n",
      "Total CPU secs in NLP function evaluations           =      0.426\n",
      "\n",
      "EXIT: Optimal Solution Found.\n",
      " \n",
      " The solution was found.\n",
      " \n",
      " The final value of the objective function is    204877051241.936     \n",
      " \n",
      " ---------------------------------------------------\n",
      " Solver         :  IPOPT (v3.12)\n",
      " Solution time  :   0.713300000003073      sec\n",
      " Objective      :    204877051241.969     \n",
      " Successful solution\n",
      " ---------------------------------------------------\n",
      " \n"
     ]
    }
   ],
   "source": [
    "#creamos el modelo\n",
    "m = GEKKO()\n",
    "\n",
    "# definir parametros\n",
    "thetha = m.Param(value=10**12)\n",
    "v_max = m.Param(value=50)\n",
    "v_cum = m.Param(value=1.1*10**3)\n",
    "gamma = m.Param(value=0.27)\n",
    "lamda = m.Param(value=9.9*10**-4)\n",
    "N_0 = m.Param(value=10**10)\n",
    "K = m.Param(value=8.4*10**-3)\n",
    "v_th = m.Param(value=10)\n",
    "\n",
    "#Definir variabes\n",
    "N= m.Var(value=N_0)\n",
    "v = m.Var(value=0,lb=0,ub=v_max)\n",
    "integral_v = m.Var(value=0,lb=0,ub=v_cum)\n",
    "u = m.CV(value=0,lb=0)\n",
    "\n",
    "# Discretización del tiempo\n",
    "m.time = np.linspace(0,12,12*7)\n",
    "\n",
    "#función objetivo\n",
    "m.Obj(N)\n",
    "\n",
    "#ecuaciones\n",
    "m.Equation(integral_v.dt()==v)\n",
    "m.Equation(v.dt()==u-gamma*v)\n",
    "m.Equation(N.dt()==lamda*N*m.log(thetha/N)-K*(v-v_th)*m.if2(v-v_th,0,1)*N)\n",
    "\n",
    "#opciones globales\n",
    "m.options.IMODE=6\n",
    "\n",
    "#resolver simulación\n",
    "m.solve()"
   ]
  },
  {
   "cell_type": "code",
   "execution_count": 87,
   "metadata": {},
   "outputs": [
    {
     "data": {
      "text/plain": [
       "Text(0, 0.5, 'u')"
      ]
     },
     "execution_count": 87,
     "metadata": {},
     "output_type": "execute_result"
    },
    {
     "data": {
      "image/png": "[encoded data removed]",
      "text/plain": [
       "<Figure size 288x216 with 1 Axes>"
      ]
     },
     "metadata": {
      "needs_background": "light"
     },
     "output_type": "display_data"
    }
   ],
   "source": [
    "#graficar u\n",
    "plt.figure(figsize=(4,3))\n",
    "plt.plot(m.time,u.value)\n",
    "plt.xlabel('semana')\n",
    "plt.ylabel('u')"
   ]
  },
  {
   "cell_type": "code",
   "execution_count": 88,
   "metadata": {},
   "outputs": [
    {
     "data": {
      "text/plain": [
       "Text(0, 0.5, 'v')"
      ]
     },
     "execution_count": 88,
     "metadata": {},
     "output_type": "execute_result"
    },
    {
     "data": {
      "image/png": "[encoded data removed]",
      "text/plain": [
       "<Figure size 288x216 with 1 Axes>"
      ]
     },
     "metadata": {
      "needs_background": "light"
     },
     "output_type": "display_data"
    }
   ],
   "source": [
    "#graficar v\n",
    "plt.figure(figsize=(4,3))\n",
    "plt.plot(m.time,v.value)\n",
    "plt.xlabel('semana')\n",
    "plt.ylabel('v')"
   ]
  },
  {
   "cell_type": "code",
   "execution_count": 89,
   "metadata": {},
   "outputs": [
    {
     "data": {
      "text/plain": [
       "Text(0, 0.5, 'N')"
      ]
     },
     "execution_count": 89,
     "metadata": {},
     "output_type": "execute_result"
    },
    {
     "data": {
      "image/png": "[encoded data removed]",
      "text/plain": [
       "<Figure size 288x216 with 1 Axes>"
      ]
     },
     "metadata": {
      "needs_background": "light"
     },
     "output_type": "display_data"
    }
   ],
   "source": [
    "#graficar N\n",
    "plt.figure(figsize=(4,3))\n",
    "plt.plot(m.time,N.value)\n",
    "plt.xlabel('semana')\n",
    "plt.ylabel('N')"
   ]
  },
  {
   "cell_type": "code",
   "execution_count": null,
   "metadata": {},
   "outputs": [],
   "source": []
  }
 ],
 "metadata": {
  "kernelspec": {
   "display_name": "Python 3",
   "language": "python",
   "name": "python3"
  },
  "language_info": {
   "codemirror_mode": {
    "name": "ipython",
    "version": 3
   },
   "file_extension": ".py",
   "mimetype": "text/x-python",
   "name": "python",
   "nbconvert_exporter": "python",
   "pygments_lexer": "ipython3",
   "version": "3.8.3"
  }
 },
 "nbformat": 4,
 "nbformat_minor": 4
}
